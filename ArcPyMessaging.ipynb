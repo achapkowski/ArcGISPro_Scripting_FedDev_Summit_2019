{
 "cells": [
  {
   "cell_type": "markdown",
   "metadata": {},
   "source": [
    "# ArcPy Messaging"
   ]
  },
  {
   "cell_type": "code",
   "execution_count": 2,
   "metadata": {},
   "outputs": [],
   "source": [
    "import arcpy\n",
    "\n",
    "fc = r\"c:\\temp\\export.shp\""
   ]
  },
  {
   "cell_type": "code",
   "execution_count": 18,
   "metadata": {},
   "outputs": [],
   "source": [
    "# Get the count from GetCount's Result object\n",
    "feature_count = int(arcpy.GetCount_management(fc).getOutput(0))\n",
    "\n",
    "if feature_count < 10.0:\n",
    "    arcpy.AddError(\"{0} has less than 10 features.\".format(input))\n",
    "    raise arcpy.ExecuteError\n",
    "else:\n",
    "    arcpy.AddMessage(\"{0} has {1} features.\".format(fc, feature_count))\n"
   ]
  }
 ],
 "metadata": {
  "kernelspec": {
   "display_name": "Python 3",
   "language": "python",
   "name": "python3"
  },
  "language_info": {
   "codemirror_mode": {
    "name": "ipython",
    "version": 3
   },
   "file_extension": ".py",
   "mimetype": "text/x-python",
   "name": "python",
   "nbconvert_exporter": "python",
   "pygments_lexer": "ipython3",
   "version": "3.6.6"
  }
 },
 "nbformat": 4,
 "nbformat_minor": 2
}
